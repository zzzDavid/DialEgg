{
 "cells": [
  {
   "cell_type": "code",
   "execution_count": 1,
   "metadata": {},
   "outputs": [],
   "source": [
    "class Mat:\n",
    "    def __init__(self, nrows, ncols):\n",
    "        self.nrows: int = nrows\n",
    "        self.ncols: int = ncols\n",
    "\n",
    "    def __str__(self):\n",
    "        return f\"Mat({self.nrows}, {self.ncols})\"\n",
    "    \n",
    "    def __repr__(self):\n",
    "        return f\"Mat({self.nrows}, {self.ncols})\"\n",
    "    \n",
    "    def __mul__(self, other):\n",
    "        return Mat(self.nrows, other.ncols)\n",
    "    \n",
    "    def __rmul__(self, other):\n",
    "        return Mat(other.nrows, self.ncols)"
   ]
  },
  {
   "cell_type": "code",
   "execution_count": 2,
   "metadata": {},
   "outputs": [],
   "source": [
    "def set3(a, b, c, d):\n",
    "    return Mat(a, b), Mat(b, c), Mat(c, d)\n",
    "\n",
    "def set4(a, b, c, d, e):\n",
    "    return Mat(a, b), Mat(b, c), Mat(c, d), Mat(d, e)"
   ]
  },
  {
   "cell_type": "code",
   "execution_count": 3,
   "metadata": {},
   "outputs": [],
   "source": [
    "def mul_cost(X: Mat, Y: Mat):\n",
    "    return X.nrows * X.ncols * Y.ncols"
   ]
  },
  {
   "cell_type": "code",
   "execution_count": 4,
   "metadata": {},
   "outputs": [
    {
     "data": {
      "text/plain": [
       "{'xy_z__w': 282000,\n",
       " 'x_yz__w': 32000,\n",
       " 'x__yz_w': 28200,\n",
       " 'x__y_zw': 55500,\n",
       " 'xy__zw': 393000}"
      ]
     },
     "execution_count": 4,
     "metadata": {},
     "output_type": "execute_result"
    }
   ],
   "source": [
    "def optimal_cost(X: Mat, Y: Mat, Z: Mat, W: Mat):\n",
    "    xy_z__w: int = mul_cost(X, Y) + mul_cost(X*Y, Z) + mul_cost((X*Y)*Z, W) # cost(A=XY) + cost(B=AZ) + cost(BW)\n",
    "    x_yz__w: int = mul_cost(Y, Z) + mul_cost(X, Y*Z) + mul_cost(X*(Y*Z), W) # cost(A=YZ) + cost(B=XA) + cost(BW)\n",
    "    x__yz_w: int = mul_cost(Y, Z) + mul_cost(Y*Z, W) + mul_cost(X, (Y*Z)*W) # cost(A=YZ) + cost(B=AW) + cost(XB)\n",
    "    x__y_zw: int = mul_cost(Z, W) + mul_cost(Y, Z*W) + mul_cost(X, Y*(Z*W)) # cost(A=ZW) + cost(B=YA) + cost(XB)\n",
    "    xy__zw: int  = mul_cost(X, Y) + mul_cost(Z, W) + mul_cost(X*Y, Z*W) # cost(A=XY) + cost(B=ZW) + cost(AB)\n",
    "\n",
    "    return {\n",
    "        \"xy_z__w\": xy_z__w,\n",
    "        \"x_yz__w\": x_yz__w,\n",
    "        \"x__yz_w\": x__yz_w,\n",
    "        \"x__y_zw\": x__y_zw,\n",
    "        \"xy__zw\": xy__zw\n",
    "    }\n",
    "\n",
    "# {'xy_z__w': 282000, 'x_yz__w': 32000, 'x__yz_w': 28200, 'x__y_zw': 55500, 'xy__zw': 393000}\n",
    "optimal_cost(Mat(100, 10), Mat(10, 150), Mat(150, 8), Mat(8, 15))"
   ]
  },
  {
   "cell_type": "code",
   "execution_count": 5,
   "metadata": {},
   "outputs": [
    {
     "data": {
      "text/plain": [
       "{'xy_z__w': 171000,\n",
       " 'x_yz__w': 27000,\n",
       " 'x__yz_w': 19000,\n",
       " 'x__y_zw': 27000,\n",
       " 'xy__zw': 171000}"
      ]
     },
     "execution_count": 5,
     "metadata": {},
     "output_type": "execute_result"
    }
   ],
   "source": [
    "optimal_cost(Mat(90, 10), Mat(10, 90), Mat(90, 10), Mat(10, 10))"
   ]
  },
  {
   "cell_type": "code",
   "execution_count": 6,
   "metadata": {},
   "outputs": [
    {
     "data": {
      "text/plain": [
       "{'xy_z__w': 472500,\n",
       " 'x_yz__w': 141250,\n",
       " 'x__yz_w': 91250,\n",
       " 'x__y_zw': 72500,\n",
       " 'xy__zw': 340000}"
      ]
     },
     "execution_count": 6,
     "metadata": {},
     "output_type": "execute_result"
    }
   ],
   "source": [
    "opt = optimal_cost(*set4(90, 25, 100, 25, 10))\n",
    "opt"
   ]
  },
  {
   "cell_type": "code",
   "execution_count": 7,
   "metadata": {},
   "outputs": [
    {
     "data": {
      "text/plain": [
       "{'xy_z__w': 16550000,\n",
       " 'x_yz__w': 12112500,\n",
       " 'x__yz_w': 7175000,\n",
       " 'x__y_zw': 1162500,\n",
       " 'xy__zw': 9625000}"
      ]
     },
     "execution_count": 7,
     "metadata": {},
     "output_type": "execute_result"
    }
   ],
   "source": [
    "opt = optimal_cost(*set4(200, 175, 250, 150, 10))\n",
    "opt"
   ]
  },
  {
   "cell_type": "code",
   "execution_count": 8,
   "metadata": {},
   "outputs": [
    {
     "data": {
      "text/plain": [
       "'x__y_zw'"
      ]
     },
     "execution_count": 8,
     "metadata": {},
     "output_type": "execute_result"
    }
   ],
   "source": [
    "min(opt, key=opt.get)"
   ]
  },
  {
   "cell_type": "code",
   "execution_count": 9,
   "metadata": {},
   "outputs": [
    {
     "data": {
      "text/plain": [
       "6012500"
      ]
     },
     "execution_count": 9,
     "metadata": {},
     "output_type": "execute_result"
    }
   ],
   "source": [
    "sorted_opt = sorted(opt.items(), key=lambda x: x[1])\n",
    "-(sorted_opt[0][1] - sorted_opt[1][1])"
   ]
  },
  {
   "cell_type": "code",
   "execution_count": 10,
   "metadata": {},
   "outputs": [],
   "source": [
    "def greedy_cost(a, b, c, d, e): # greedy cost of ((XY)Z)W\n",
    "    # layer 1 for (XY)Z, this layer chooses between (XY)Z and X(YZ)\n",
    "    xy_z = (a * b * c) + (a * c * d)\n",
    "    x_yz = (b * c * d) + (a * b * d)\n",
    "\n",
    "    sol = []\n",
    "    if xy_z <= x_yz: # (XY)Z < X(YZ), A = XY with dims a x c\n",
    "        # options are: (AZ)W and A(ZW)\n",
    "        az_w = (a * c * d) + (a * d * e)\n",
    "        a_zw = (c * d * e) + (a * c * e)\n",
    "        \n",
    "        if az_w < a_zw:\n",
    "            sol.append(\"xy_z__w\")\n",
    "        elif a_zw < az_w:\n",
    "            sol.append(\"xy__zw\")\n",
    "        else:\n",
    "            sol.append(\"xy_z__w\")\n",
    "            sol.append(\"xy__zw\")\n",
    "    elif x_yz < xy_z: # X(YZ) < (XY)Z, B = YZ with dims b x d\n",
    "        # options are: (XB)W and X(BW)\n",
    "        xb_w = (a * b * d) + (a * d * e)\n",
    "        x_bw = (b * d * e) + (a * b * e)\n",
    "\n",
    "        if xb_w < x_bw:\n",
    "            sol.append(\"x_yz__w\")\n",
    "        elif x_bw < xb_w:\n",
    "            sol.append(\"x__yz_w\")\n",
    "        else:\n",
    "            sol.append(\"x_yz__w\")\n",
    "            sol.append(\"x__yz_w\")\n",
    "\n",
    "    return sol"
   ]
  },
  {
   "cell_type": "code",
   "execution_count": 15,
   "metadata": {},
   "outputs": [
    {
     "name": "stdout",
     "output_type": "stream",
     "text": [
      "20 10 10 20 10 1.2\n",
      "20 20 20 20 10 1.3333333333333333\n"
     ]
    }
   ],
   "source": [
    "options = []\n",
    "for a in range(0, 30, 10):\n",
    "    for b in range(0, 30, 10):\n",
    "        for c in range(0, 30, 10):\n",
    "            for d in range(0, 30, 10):\n",
    "                for e in range(0, 30, 10):\n",
    "                    X = Mat(a, b)\n",
    "                    Y = Mat(b, c)\n",
    "                    Z = Mat(c, d)\n",
    "                    W = Mat(d, e)\n",
    "                    \n",
    "                    opt_cost = optimal_cost(X, Y, Z, W)\n",
    "                    min_cost = min(opt_cost, key=opt_cost.get)\n",
    "\n",
    "                    if min_cost == 'x__y_zw':\n",
    "                        sorted_opt_cost = sorted(opt_cost.items(), key=lambda x: x[1])\n",
    "                        if sorted_opt_cost[0][1] == 0 or sorted_opt_cost[1][1] == 0:\n",
    "                            continue\n",
    "                        top_diff = sorted_opt_cost[1][1] / sorted_opt_cost[0][1]\n",
    "                        if top_diff > 1:\n",
    "                            print(a, b, c, d, e, top_diff)"
   ]
  },
  {
   "cell_type": "code",
   "execution_count": null,
   "metadata": {},
   "outputs": [],
   "source": []
  }
 ],
 "metadata": {
  "kernelspec": {
   "display_name": ".dialegg.venv",
   "language": "python",
   "name": "python3"
  },
  "language_info": {
   "codemirror_mode": {
    "name": "ipython",
    "version": 3
   },
   "file_extension": ".py",
   "mimetype": "text/x-python",
   "name": "python",
   "nbconvert_exporter": "python",
   "pygments_lexer": "ipython3",
   "version": "3.12.8"
  }
 },
 "nbformat": 4,
 "nbformat_minor": 4
}
